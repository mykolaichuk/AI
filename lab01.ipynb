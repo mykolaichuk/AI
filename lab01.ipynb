{
 "cells": [
  {
   "attachments": {},
   "cell_type": "markdown",
   "metadata": {
    "vscode": {
     "languageId": "html"
    }
   },
   "source": [
    "<h1 align=center>Лабораторна робота №1<h1>\n",
    "\n",
    "<h2>2. ЗАВДАННЯ НА ЛАБОРАТОРНУ РОБОТУ ТА МЕТОДИЧНІ РЕКОМЕНДАЦІЇ ДО ЙОГО ВИКОНАННЯ</h2>\n",
    "<h3>Завдання 2.1. Попередня обробка даних</h3>\n",
    "<p>Створимо новий Jupiter Notebook та імпортуймо такі пакети.</p>"
   ]
  },
  {
   "cell_type": "code",
   "execution_count": 325,
   "metadata": {},
   "outputs": [],
   "source": [
    "import numpy as np\n",
    "import math\n",
    "from sklearn import preprocessing\n",
    "from sklearn import linear_model\n",
    "from sklearn.naive_bayes import GaussianNB\n",
    "from sklearn.model_selection import train_test_split\n",
    "from sklearn.model_selection import cross_val_score\n",
    "import matplotlib.pyplot as plt"
   ]
  },
  {
   "cell_type": "markdown",
   "metadata": {},
   "source": [
    "<p>Визначимо деяку вибірку даних.</p>"
   ]
  },
  {
   "cell_type": "code",
   "execution_count": 326,
   "metadata": {},
   "outputs": [],
   "source": [
    "input_data = np.array([[5.1, -2.9, 3.3],\n",
    "                        [-1.2, 7.8, -6.1],\n",
    "                        [3.9, 0.4, 2.1],\n",
    "                        [7.3, -9.9, -4.5]])"
   ]
  },
  {
   "cell_type": "markdown",
   "metadata": {},
   "source": [
    "<p>Розглянемо декілька різних методів попередньої обробки даних.</p>"
   ]
  },
  {
   "attachments": {},
   "cell_type": "markdown",
   "metadata": {},
   "source": [
    "<h4>2.1.1. Бінаризація</h4>\n",
    "<p>Додамо наступні рядки до того ж Jupiter Notebook.</p>"
   ]
  },
  {
   "cell_type": "code",
   "execution_count": 327,
   "metadata": {},
   "outputs": [
    {
     "name": "stdout",
     "output_type": "stream",
     "text": [
      "\n",
      " Binarized data:\n",
      " [[1. 0. 1.]\n",
      " [0. 1. 0.]\n",
      " [1. 0. 0.]\n",
      " [1. 0. 0.]]\n"
     ]
    }
   ],
   "source": [
    "# Бінаризація даних\n",
    "data_binarized = preprocessing.Binarizer(threshold=2.1).transform(input_data)\n",
    "print(\"\\n Binarized data:\\n\", data_binarized)"
   ]
  },
  {
   "attachments": {},
   "cell_type": "markdown",
   "metadata": {},
   "source": [
    "<p>Як бачимо, всі значення понад 1 примусово встановлюються рівними 1. Інші значення стають рівними 0.</p>"
   ]
  },
  {
   "attachments": {},
   "cell_type": "markdown",
   "metadata": {},
   "source": [
    "<h4>2.1.2 Виключення середнього</h4>\n",
    "<p>Додамо наступні рядки до нашого Jupiter Notebook, який використовувався в попередньому завданні 2.1.1.</p>"
   ]
  },
  {
   "cell_type": "code",
   "execution_count": 328,
   "metadata": {},
   "outputs": [
    {
     "name": "stdout",
     "output_type": "stream",
     "text": [
      "\n",
      "BEFORE: \n",
      "Mean =  [ 3.775 -1.15  -1.3  ]\n",
      "Std deviation = [3.12039661 6.36651396 4.0620192 ]\n"
     ]
    }
   ],
   "source": [
    "# Виведення середнього значення та стандартного відхилення\n",
    "\n",
    "print(\"\\nBEFORE: \")\n",
    "print(\"Mean = \", input_data.mean(axis=0))\n",
    "print(\"Std deviation =\", input_data.std(axis=0))"
   ]
  },
  {
   "attachments": {},
   "cell_type": "markdown",
   "metadata": {},
   "source": [
    "<p>Ці рядки коду відображають середнє значення і середньоквадратичне відхилення для вхідних даних.</p>\n",
    "<p>Тепер виключимо середнє значення.</p>"
   ]
  },
  {
   "cell_type": "code",
   "execution_count": 329,
   "metadata": {},
   "outputs": [
    {
     "name": "stdout",
     "output_type": "stream",
     "text": [
      "\n",
      "AFTER: \n",
      "Mean = [1.11022302e-16 0.00000000e+00 2.77555756e-17]\n",
      "Std deviation = [1. 1. 1.]\n"
     ]
    }
   ],
   "source": [
    "# Виключення середнього значення\n",
    "\n",
    "data_scaled = preprocessing.scale(input_data)\n",
    "print(\"\\nAFTER: \")\n",
    "print(\"Mean =\", data_scaled.mean(axis=0))\n",
    "print(\"Std deviation =\", data_scaled.std(axis=0))"
   ]
  },
  {
   "attachments": {},
   "cell_type": "markdown",
   "metadata": {},
   "source": [
    "<p>Неважко помітити, що середнє значення практично рівне нулю, а стандартне відхилення - одиниці.</p>"
   ]
  },
  {
   "attachments": {},
   "cell_type": "markdown",
   "metadata": {},
   "source": [
    "<h4>2.1.3. Масштабування</h4>\n",
    "<p>Додамо до того ж Jupiter Notebook наступні рядки.</p>"
   ]
  },
  {
   "cell_type": "code",
   "execution_count": 330,
   "metadata": {},
   "outputs": [
    {
     "name": "stdout",
     "output_type": "stream",
     "text": [
      "\n",
      "MinMax scaled data:\n",
      " [[0.74117647 0.39548023 1.        ]\n",
      " [0.         1.         0.        ]\n",
      " [0.6        0.5819209  0.87234043]\n",
      " [1.         0.         0.17021277]]\n"
     ]
    }
   ],
   "source": [
    "#Масштабування MinMax\n",
    "\n",
    "data_scaler_minmax = preprocessing.MinMaxScaler(feature_range=(0,1))\n",
    "data_scaled_minmax = data_scaler_minmax.fit_transform(input_data)\n",
    "print(\"\\nMinMax scaled data:\\n\", data_scaled_minmax)"
   ]
  },
  {
   "attachments": {},
   "cell_type": "markdown",
   "metadata": {},
   "source": [
    "<p>Кожен рядок відмасштабований таким чином, щоб максимальним значенням була б одиниця, а всі решта значень визначалися відносно неї.</p>"
   ]
  },
  {
   "attachments": {},
   "cell_type": "markdown",
   "metadata": {},
   "source": [
    "<h4>2.1.4. Нормалізація</h4>\n",
    "<p>Додамо наступні рядки у наш файл.</p>"
   ]
  },
  {
   "cell_type": "code",
   "execution_count": 331,
   "metadata": {},
   "outputs": [
    {
     "name": "stdout",
     "output_type": "stream",
     "text": [
      "\n",
      "L1 normalized data:\n",
      " [[ 0.45132743 -0.25663717  0.2920354 ]\n",
      " [-0.0794702   0.51655629 -0.40397351]\n",
      " [ 0.609375    0.0625      0.328125  ]\n",
      " [ 0.33640553 -0.4562212  -0.20737327]]\n",
      "\n",
      "L2 normalized data:\n",
      " [[ 0.75765788 -0.43082507  0.49024922]\n",
      " [-0.12030718  0.78199664 -0.61156148]\n",
      " [ 0.87690281  0.08993875  0.47217844]\n",
      " [ 0.55734935 -0.75585734 -0.34357152]]\n"
     ]
    }
   ],
   "source": [
    "#Нормалізація даних\n",
    "\n",
    "data_normalized_l1 = preprocessing.normalize(input_data,norm='l1')\n",
    "data_normalized_l2 = preprocessing.normalize(input_data,norm='l2')\n",
    "print(\"\\nL1 normalized data:\\n\", data_normalized_l1)\n",
    "print(\"\\nL2 normalized data:\\n\", data_normalized_l2)"
   ]
  },
  {
   "attachments": {},
   "cell_type": "markdown",
   "metadata": {},
   "source": [
    "<p>Виконаємо обернену дію та перевіримо алгоритми, що використовуються для нормалізованих даних.</p>"
   ]
  },
  {
   "cell_type": "code",
   "execution_count": 332,
   "metadata": {},
   "outputs": [
    {
     "name": "stdout",
     "output_type": "stream",
     "text": [
      "L1 normanlization test:\n",
      "\n",
      "0.9999999999999998\n",
      "1.0\n",
      "1.0\n",
      "1.0\n",
      "\n",
      "L2 normalization test:\n",
      "\n",
      "0.9999999999999998\n",
      "1.0\n",
      "1.0\n",
      "1.0\n"
     ]
    }
   ],
   "source": [
    "#Перевірка L1-нормалізації\n",
    "print(\"L1 normanlization test:\\n\")\n",
    "for row in data_normalized_l1:\n",
    "    print(math.fsum(abs(row)))\n",
    "\n",
    "#Перевірка L2-нормалізації\n",
    "print(\"\\nL2 normalization test:\\n\")\n",
    "for row in data_normalized_l2:\n",
    "    print(math.fsum(pow(row,2)))"
   ]
  },
  {
   "attachments": {},
   "cell_type": "markdown",
   "metadata": {},
   "source": [
    "<p>Таким чином ми підвердили дію алгоритмів. В методичному варіанті вказано, що L2-нормалізація менш чутлива до викидів, тому бажано використовувати саме цей алгоритм.</p>"
   ]
  },
  {
   "attachments": {},
   "cell_type": "markdown",
   "metadata": {},
   "source": [
    "<h4>2.1.5. Кодування міток</h4>\n",
    "\n",
    "<p>Визначимо мітки.</p>"
   ]
  },
  {
   "cell_type": "code",
   "execution_count": 333,
   "metadata": {},
   "outputs": [],
   "source": [
    "# Надання позначок вхідних даних\n",
    "\n",
    "input_labels = ['red', 'black', 'green', 'black', 'yellow', 'white']"
   ]
  },
  {
   "attachments": {},
   "cell_type": "markdown",
   "metadata": {},
   "source": [
    "<p>Створимо обʼєкт кодування міток та навчимо його.</p>"
   ]
  },
  {
   "cell_type": "code",
   "execution_count": 334,
   "metadata": {},
   "outputs": [
    {
     "data": {
      "text/html": [
       "<style>#sk-container-id-15 {color: black;background-color: white;}#sk-container-id-15 pre{padding: 0;}#sk-container-id-15 div.sk-toggleable {background-color: white;}#sk-container-id-15 label.sk-toggleable__label {cursor: pointer;display: block;width: 100%;margin-bottom: 0;padding: 0.3em;box-sizing: border-box;text-align: center;}#sk-container-id-15 label.sk-toggleable__label-arrow:before {content: \"▸\";float: left;margin-right: 0.25em;color: #696969;}#sk-container-id-15 label.sk-toggleable__label-arrow:hover:before {color: black;}#sk-container-id-15 div.sk-estimator:hover label.sk-toggleable__label-arrow:before {color: black;}#sk-container-id-15 div.sk-toggleable__content {max-height: 0;max-width: 0;overflow: hidden;text-align: left;background-color: #f0f8ff;}#sk-container-id-15 div.sk-toggleable__content pre {margin: 0.2em;color: black;border-radius: 0.25em;background-color: #f0f8ff;}#sk-container-id-15 input.sk-toggleable__control:checked~div.sk-toggleable__content {max-height: 200px;max-width: 100%;overflow: auto;}#sk-container-id-15 input.sk-toggleable__control:checked~label.sk-toggleable__label-arrow:before {content: \"▾\";}#sk-container-id-15 div.sk-estimator input.sk-toggleable__control:checked~label.sk-toggleable__label {background-color: #d4ebff;}#sk-container-id-15 div.sk-label input.sk-toggleable__control:checked~label.sk-toggleable__label {background-color: #d4ebff;}#sk-container-id-15 input.sk-hidden--visually {border: 0;clip: rect(1px 1px 1px 1px);clip: rect(1px, 1px, 1px, 1px);height: 1px;margin: -1px;overflow: hidden;padding: 0;position: absolute;width: 1px;}#sk-container-id-15 div.sk-estimator {font-family: monospace;background-color: #f0f8ff;border: 1px dotted black;border-radius: 0.25em;box-sizing: border-box;margin-bottom: 0.5em;}#sk-container-id-15 div.sk-estimator:hover {background-color: #d4ebff;}#sk-container-id-15 div.sk-parallel-item::after {content: \"\";width: 100%;border-bottom: 1px solid gray;flex-grow: 1;}#sk-container-id-15 div.sk-label:hover label.sk-toggleable__label {background-color: #d4ebff;}#sk-container-id-15 div.sk-serial::before {content: \"\";position: absolute;border-left: 1px solid gray;box-sizing: border-box;top: 0;bottom: 0;left: 50%;z-index: 0;}#sk-container-id-15 div.sk-serial {display: flex;flex-direction: column;align-items: center;background-color: white;padding-right: 0.2em;padding-left: 0.2em;position: relative;}#sk-container-id-15 div.sk-item {position: relative;z-index: 1;}#sk-container-id-15 div.sk-parallel {display: flex;align-items: stretch;justify-content: center;background-color: white;position: relative;}#sk-container-id-15 div.sk-item::before, #sk-container-id-15 div.sk-parallel-item::before {content: \"\";position: absolute;border-left: 1px solid gray;box-sizing: border-box;top: 0;bottom: 0;left: 50%;z-index: -1;}#sk-container-id-15 div.sk-parallel-item {display: flex;flex-direction: column;z-index: 1;position: relative;background-color: white;}#sk-container-id-15 div.sk-parallel-item:first-child::after {align-self: flex-end;width: 50%;}#sk-container-id-15 div.sk-parallel-item:last-child::after {align-self: flex-start;width: 50%;}#sk-container-id-15 div.sk-parallel-item:only-child::after {width: 0;}#sk-container-id-15 div.sk-dashed-wrapped {border: 1px dashed gray;margin: 0 0.4em 0.5em 0.4em;box-sizing: border-box;padding-bottom: 0.4em;background-color: white;}#sk-container-id-15 div.sk-label label {font-family: monospace;font-weight: bold;display: inline-block;line-height: 1.2em;}#sk-container-id-15 div.sk-label-container {text-align: center;}#sk-container-id-15 div.sk-container {/* jupyter's `normalize.less` sets `[hidden] { display: none; }` but bootstrap.min.css set `[hidden] { display: none !important; }` so we also need the `!important` here to be able to override the default hidden behavior on the sphinx rendered scikit-learn.org. See: https://github.com/scikit-learn/scikit-learn/issues/21755 */display: inline-block !important;position: relative;}#sk-container-id-15 div.sk-text-repr-fallback {display: none;}</style><div id=\"sk-container-id-15\" class=\"sk-top-container\"><div class=\"sk-text-repr-fallback\"><pre>LabelEncoder()</pre><b>In a Jupyter environment, please rerun this cell to show the HTML representation or trust the notebook. <br />On GitHub, the HTML representation is unable to render, please try loading this page with nbviewer.org.</b></div><div class=\"sk-container\" hidden><div class=\"sk-item\"><div class=\"sk-estimator sk-toggleable\"><input class=\"sk-toggleable__control sk-hidden--visually\" id=\"sk-estimator-id-15\" type=\"checkbox\" checked><label for=\"sk-estimator-id-15\" class=\"sk-toggleable__label sk-toggleable__label-arrow\">LabelEncoder</label><div class=\"sk-toggleable__content\"><pre>LabelEncoder()</pre></div></div></div></div></div>"
      ],
      "text/plain": [
       "LabelEncoder()"
      ]
     },
     "execution_count": 334,
     "metadata": {},
     "output_type": "execute_result"
    }
   ],
   "source": [
    "# Створення кодувальника та встановлення відповідності між мітками та числами\n",
    "\n",
    "encoder = preprocessing.LabelEncoder()\n",
    "encoder.fit(input_labels)"
   ]
  },
  {
   "attachments": {},
   "cell_type": "markdown",
   "metadata": {},
   "source": [
    "<p>Виведемо відображення слів на числа.</p>"
   ]
  },
  {
   "cell_type": "code",
   "execution_count": 335,
   "metadata": {},
   "outputs": [
    {
     "name": "stdout",
     "output_type": "stream",
     "text": [
      "\n",
      "Label mapping:\n",
      "black --> 0\n",
      "green --> 1\n",
      "red --> 2\n",
      "white --> 3\n",
      "yellow --> 4\n"
     ]
    }
   ],
   "source": [
    "# Виведення відображення\n",
    "\n",
    "print(\"\\nLabel mapping:\")\n",
    "for i, item in enumerate(encoder.classes_):\n",
    "    print(item, '-->', i)"
   ]
  },
  {
   "attachments": {},
   "cell_type": "markdown",
   "metadata": {},
   "source": [
    "<p>Перетворимо набір випадково впорядкованих міток, щоб перевірити роботу кодувальника.</p>"
   ]
  },
  {
   "cell_type": "code",
   "execution_count": 337,
   "metadata": {},
   "outputs": [
    {
     "name": "stdout",
     "output_type": "stream",
     "text": [
      "\n",
      "Labels = ['green', 'red', 'black']\n",
      "Encoded values = [1, 2, 0]\n"
     ]
    }
   ],
   "source": [
    "# Перетворення міток за допомогою кодувальника\n",
    "\n",
    "test_labels = ['green', 'red', 'black']\n",
    "encoded_values = encoder.transform(test_labels)\n",
    "print(\"\\nLabels =\", test_labels)\n",
    "print(\"Encoded values =\", list(encoded_values))"
   ]
  },
  {
   "attachments": {},
   "cell_type": "markdown",
   "metadata": {},
   "source": [
    "<p>Декодуємо випадковий набір чисел.</p>"
   ]
  },
  {
   "cell_type": "code",
   "execution_count": 338,
   "metadata": {},
   "outputs": [
    {
     "name": "stdout",
     "output_type": "stream",
     "text": [
      "\n",
      "Encoded values = [3, 0, 4, 1]\n",
      "Decoded labels = ['white', 'black', 'yellow', 'green']\n"
     ]
    }
   ],
   "source": [
    "# Декодування набору чисел за допомогою декодера\n",
    "encoded_values = [3, 0, 4, 1]\n",
    "decoded_list = encoder.inverse_transform(encoded_values)\n",
    "print(\"\\nEncoded values =\", encoded_values)\n",
    "print(\"Decoded labels =\", list(decoded_list))"
   ]
  },
  {
   "attachments": {},
   "cell_type": "markdown",
   "metadata": {},
   "source": [
    "<p>Таким чином отримали практичні навички з кодування та декодування міток за допомогою пакету preprocessing.</p>"
   ]
  },
  {
   "attachments": {},
   "cell_type": "markdown",
   "metadata": {},
   "source": [
    "<h3>Завдання 2.2. Попередня обробка нових даних</h3>"
   ]
  },
  {
   "attachments": {},
   "cell_type": "markdown",
   "metadata": {},
   "source": [
    "<p>Варіант №16</p>\n",
    "<table>\n",
    "    <tr>\n",
    "        <th align=center>№ варіанту</th>\n",
    "        <th align=center, colspan=\"12\">Значення змінної input_data</th>\n",
    "        <th align=center>Поріг бінаризації</th>\n",
    "    </tr>\n",
    "    <tr>\n",
    "        <td align=center>16.</td>\n",
    "        <td align=center>-3.3</td>\n",
    "        <td align=center>-1.6</td>\n",
    "        <td align=center>6.1</td>\n",
    "        <td align=center>-2.4</td>\n",
    "        <td align=center>-1.2</td>\n",
    "        <td align=center>4.3</td>\n",
    "        <td align=center>-3.2</td>\n",
    "        <td align=center>5.5</td>\n",
    "        <td align=center>-6.1</td>\n",
    "        <td align=center>-4.4</td>\n",
    "        <td align=center>1.4</td>\n",
    "        <td align=center>-1.2</td>\n",
    "        <td align=center>2.1</td>\n",
    "    </tr>\n",
    "</table>\n",
    "\n",
    "Бінарізації, Виключення середнього, Масштабування, Нормалізації."
   ]
  },
  {
   "attachments": {},
   "cell_type": "markdown",
   "metadata": {},
   "source": [
    "<p>Вхідні дані:</p>"
   ]
  },
  {
   "cell_type": "code",
   "execution_count": 339,
   "metadata": {},
   "outputs": [],
   "source": [
    "input_data = np.array([[-3.3, -1.6, 6.1],\n",
    "                    [-2.4, -1.2, 4.3],\n",
    "                    [-3.2, 5.5, -6.1],\n",
    "                    [-4.4, 1.4, -1.2]])"
   ]
  },
  {
   "attachments": {},
   "cell_type": "markdown",
   "metadata": {},
   "source": [
    "<p>Бінаризація даних</p>"
   ]
  },
  {
   "cell_type": "code",
   "execution_count": 340,
   "metadata": {},
   "outputs": [
    {
     "name": "stdout",
     "output_type": "stream",
     "text": [
      "Binarized data: \n",
      " [[0. 0. 1.]\n",
      " [0. 0. 1.]\n",
      " [0. 1. 0.]\n",
      " [0. 0. 0.]]\n"
     ]
    }
   ],
   "source": [
    "data_binarized = preprocessing.Binarizer(threshold=2.1).transform(input_data)\n",
    "print(\"Binarized data: \\n\", data_binarized)"
   ]
  },
  {
   "attachments": {},
   "cell_type": "markdown",
   "metadata": {},
   "source": [
    "<p>Виключення середнього</p>"
   ]
  },
  {
   "cell_type": "code",
   "execution_count": 341,
   "metadata": {},
   "outputs": [
    {
     "name": "stdout",
     "output_type": "stream",
     "text": [
      "BEFORE:\n",
      "Mean =  [-3.325  1.025  0.775]\n",
      "Std deviation = [0.71195154 2.82875856 4.79446295]\n"
     ]
    }
   ],
   "source": [
    "print(\"BEFORE:\")\n",
    "print(\"Mean = \", input_data.mean(axis=0))\n",
    "print(\"Std deviation =\", input_data.std(axis=0))"
   ]
  },
  {
   "attachments": {},
   "cell_type": "markdown",
   "metadata": {},
   "source": [
    "<p>Тепер виключимо середнє значення</p>"
   ]
  },
  {
   "cell_type": "code",
   "execution_count": 342,
   "metadata": {},
   "outputs": [
    {
     "name": "stdout",
     "output_type": "stream",
     "text": [
      "AFTER:\n",
      "Mean = [-4.44089210e-16 -5.55111512e-17  6.93889390e-17]\n",
      "Std deviatuion = [1. 1. 1.]\n"
     ]
    }
   ],
   "source": [
    "data_scaled = preprocessing.scale(input_data)\n",
    "print(\"AFTER:\")\n",
    "print(\"Mean =\", (data_scaled.mean(axis=0)))\n",
    "print(\"Std deviatuion =\", data_scaled.std(axis=0))"
   ]
  },
  {
   "attachments": {},
   "cell_type": "markdown",
   "metadata": {},
   "source": [
    "<p>Неважко помітити, що середнє значення практично рівне 0, а стандартне відхилення - 1.</p>"
   ]
  },
  {
   "attachments": {},
   "cell_type": "markdown",
   "metadata": {},
   "source": [
    "<p>Масштабування</p>"
   ]
  },
  {
   "cell_type": "code",
   "execution_count": 343,
   "metadata": {},
   "outputs": [
    {
     "name": "stdout",
     "output_type": "stream",
     "text": [
      "Min max scaled data:\n",
      " [[0.55       0.         1.        ]\n",
      " [1.         0.05633803 0.85245902]\n",
      " [0.6        1.         0.        ]\n",
      " [0.         0.42253521 0.40163934]]\n"
     ]
    }
   ],
   "source": [
    "data_scaler_minmax = preprocessing.MinMaxScaler(feature_range=(0,1))\n",
    "data_scaled_minmax = data_scaler_minmax.fit_transform(input_data)\n",
    "print(\"Min max scaled data:\\n\", data_scaled_minmax)"
   ]
  },
  {
   "attachments": {},
   "cell_type": "markdown",
   "metadata": {},
   "source": [
    "<p>Кожен рядок відформатовано таким чином, щоб максимальним значенням була б одиниця, а всі решта значень визначалися відносно неї.</p>"
   ]
  },
  {
   "attachments": {},
   "cell_type": "markdown",
   "metadata": {},
   "source": [
    "<p>Нормалізація</p>"
   ]
  },
  {
   "cell_type": "code",
   "execution_count": 344,
   "metadata": {},
   "outputs": [
    {
     "name": "stdout",
     "output_type": "stream",
     "text": [
      "L1 normalized data:\n",
      " [[-0.3        -0.14545455  0.55454545]\n",
      " [-0.30379747 -0.15189873  0.5443038 ]\n",
      " [-0.21621622  0.37162162 -0.41216216]\n",
      " [-0.62857143  0.2        -0.17142857]]\n",
      "\n",
      "L2 normalized data:\n",
      " [[-0.46364048 -0.22479538  0.8570324 ]\n",
      " [-0.47351004 -0.23675502  0.84837215]\n",
      " [-0.36302745  0.62395344 -0.69202108]\n",
      " [-0.92228798  0.29345527 -0.25153308]]\n"
     ]
    }
   ],
   "source": [
    "data_normalized_l1 = preprocessing.normalize(input_data,norm='l1')\n",
    "data_normalized_l2 = preprocessing.normalize(input_data,norm='l2')\n",
    "print(\"L1 normalized data:\\n\", data_normalized_l1)\n",
    "print(\"\\nL2 normalized data:\\n\", data_normalized_l2)"
   ]
  },
  {
   "attachments": {},
   "cell_type": "markdown",
   "metadata": {},
   "source": [
    "<h3>Завдання 2.3. Класифікація логістичною регресією або логістичний класифікатор</h3>"
   ]
  },
  {
   "attachments": {},
   "cell_type": "markdown",
   "metadata": {},
   "source": [
    "<p>Визначимо зразок вхідних даних за допомогою двовимірних векторів і відповідних міток.</p>"
   ]
  },
  {
   "cell_type": "code",
   "execution_count": 345,
   "metadata": {},
   "outputs": [],
   "source": [
    "# Визначення зразка вхідних даних\n",
    "X = np.array([[3.1, 7.2], [4, 6.7], [2.9, 8], [5.1, 4.5],\n",
    "            [6, 5], [5.6, 5], [3.3, 0.4], \n",
    "            [3.9, 0.9], [2.8, 1],\n",
    "            [0.5, 3.4], [1, 4], [0.6, 4.9]])\n",
    "y = np.array([0, 0, 0, 1, 1, 1, 2, 2, 2, 3, 3, 3])"
   ]
  },
  {
   "attachments": {},
   "cell_type": "markdown",
   "metadata": {},
   "source": [
    "<p>Натренуємо класифікатор, використовуючи ці позначені дані. Створимо обʼєкт логістичного класифікатора.</p>"
   ]
  },
  {
   "cell_type": "code",
   "execution_count": 346,
   "metadata": {},
   "outputs": [],
   "source": [
    "# Створення логістичного класифікатора\n",
    "\n",
    "classifier = linear_model.LogisticRegression(solver='liblinear',C=1)"
   ]
  },
  {
   "attachments": {},
   "cell_type": "markdown",
   "metadata": {},
   "source": [
    "<p>Навчимо класифікатор, використовуючи певні дані.</p>"
   ]
  },
  {
   "cell_type": "code",
   "execution_count": 347,
   "metadata": {},
   "outputs": [
    {
     "data": {
      "text/html": [
       "<style>#sk-container-id-16 {color: black;background-color: white;}#sk-container-id-16 pre{padding: 0;}#sk-container-id-16 div.sk-toggleable {background-color: white;}#sk-container-id-16 label.sk-toggleable__label {cursor: pointer;display: block;width: 100%;margin-bottom: 0;padding: 0.3em;box-sizing: border-box;text-align: center;}#sk-container-id-16 label.sk-toggleable__label-arrow:before {content: \"▸\";float: left;margin-right: 0.25em;color: #696969;}#sk-container-id-16 label.sk-toggleable__label-arrow:hover:before {color: black;}#sk-container-id-16 div.sk-estimator:hover label.sk-toggleable__label-arrow:before {color: black;}#sk-container-id-16 div.sk-toggleable__content {max-height: 0;max-width: 0;overflow: hidden;text-align: left;background-color: #f0f8ff;}#sk-container-id-16 div.sk-toggleable__content pre {margin: 0.2em;color: black;border-radius: 0.25em;background-color: #f0f8ff;}#sk-container-id-16 input.sk-toggleable__control:checked~div.sk-toggleable__content {max-height: 200px;max-width: 100%;overflow: auto;}#sk-container-id-16 input.sk-toggleable__control:checked~label.sk-toggleable__label-arrow:before {content: \"▾\";}#sk-container-id-16 div.sk-estimator input.sk-toggleable__control:checked~label.sk-toggleable__label {background-color: #d4ebff;}#sk-container-id-16 div.sk-label input.sk-toggleable__control:checked~label.sk-toggleable__label {background-color: #d4ebff;}#sk-container-id-16 input.sk-hidden--visually {border: 0;clip: rect(1px 1px 1px 1px);clip: rect(1px, 1px, 1px, 1px);height: 1px;margin: -1px;overflow: hidden;padding: 0;position: absolute;width: 1px;}#sk-container-id-16 div.sk-estimator {font-family: monospace;background-color: #f0f8ff;border: 1px dotted black;border-radius: 0.25em;box-sizing: border-box;margin-bottom: 0.5em;}#sk-container-id-16 div.sk-estimator:hover {background-color: #d4ebff;}#sk-container-id-16 div.sk-parallel-item::after {content: \"\";width: 100%;border-bottom: 1px solid gray;flex-grow: 1;}#sk-container-id-16 div.sk-label:hover label.sk-toggleable__label {background-color: #d4ebff;}#sk-container-id-16 div.sk-serial::before {content: \"\";position: absolute;border-left: 1px solid gray;box-sizing: border-box;top: 0;bottom: 0;left: 50%;z-index: 0;}#sk-container-id-16 div.sk-serial {display: flex;flex-direction: column;align-items: center;background-color: white;padding-right: 0.2em;padding-left: 0.2em;position: relative;}#sk-container-id-16 div.sk-item {position: relative;z-index: 1;}#sk-container-id-16 div.sk-parallel {display: flex;align-items: stretch;justify-content: center;background-color: white;position: relative;}#sk-container-id-16 div.sk-item::before, #sk-container-id-16 div.sk-parallel-item::before {content: \"\";position: absolute;border-left: 1px solid gray;box-sizing: border-box;top: 0;bottom: 0;left: 50%;z-index: -1;}#sk-container-id-16 div.sk-parallel-item {display: flex;flex-direction: column;z-index: 1;position: relative;background-color: white;}#sk-container-id-16 div.sk-parallel-item:first-child::after {align-self: flex-end;width: 50%;}#sk-container-id-16 div.sk-parallel-item:last-child::after {align-self: flex-start;width: 50%;}#sk-container-id-16 div.sk-parallel-item:only-child::after {width: 0;}#sk-container-id-16 div.sk-dashed-wrapped {border: 1px dashed gray;margin: 0 0.4em 0.5em 0.4em;box-sizing: border-box;padding-bottom: 0.4em;background-color: white;}#sk-container-id-16 div.sk-label label {font-family: monospace;font-weight: bold;display: inline-block;line-height: 1.2em;}#sk-container-id-16 div.sk-label-container {text-align: center;}#sk-container-id-16 div.sk-container {/* jupyter's `normalize.less` sets `[hidden] { display: none; }` but bootstrap.min.css set `[hidden] { display: none !important; }` so we also need the `!important` here to be able to override the default hidden behavior on the sphinx rendered scikit-learn.org. See: https://github.com/scikit-learn/scikit-learn/issues/21755 */display: inline-block !important;position: relative;}#sk-container-id-16 div.sk-text-repr-fallback {display: none;}</style><div id=\"sk-container-id-16\" class=\"sk-top-container\"><div class=\"sk-text-repr-fallback\"><pre>LogisticRegression(C=1, solver=&#x27;liblinear&#x27;)</pre><b>In a Jupyter environment, please rerun this cell to show the HTML representation or trust the notebook. <br />On GitHub, the HTML representation is unable to render, please try loading this page with nbviewer.org.</b></div><div class=\"sk-container\" hidden><div class=\"sk-item\"><div class=\"sk-estimator sk-toggleable\"><input class=\"sk-toggleable__control sk-hidden--visually\" id=\"sk-estimator-id-16\" type=\"checkbox\" checked><label for=\"sk-estimator-id-16\" class=\"sk-toggleable__label sk-toggleable__label-arrow\">LogisticRegression</label><div class=\"sk-toggleable__content\"><pre>LogisticRegression(C=1, solver=&#x27;liblinear&#x27;)</pre></div></div></div></div></div>"
      ],
      "text/plain": [
       "LogisticRegression(C=1, solver='liblinear')"
      ]
     },
     "execution_count": 347,
     "metadata": {},
     "output_type": "execute_result"
    }
   ],
   "source": [
    "# Тренування класифікатора\n",
    "\n",
    "classifier.fit(X, y)"
   ]
  },
  {
   "attachments": {},
   "cell_type": "markdown",
   "metadata": {},
   "source": [
    "<p>Візуалізувати результати роботи не вдалося, через застарілу бібліотеку, що вказана в методичних матеріалах.</p>"
   ]
  },
  {
   "attachments": {},
   "cell_type": "markdown",
   "metadata": {},
   "source": [
    "<h3>Завдання 2.4. Класифікація наївним байєсовським класифікатором</h3>"
   ]
  },
  {
   "attachments": {},
   "cell_type": "markdown",
   "metadata": {},
   "source": [
    "<p>Як джерело даних буде використано файл data_multivar_nb.txt, кожен рядок якого містить значення розділені комою.</p>"
   ]
  },
  {
   "cell_type": "code",
   "execution_count": 348,
   "metadata": {},
   "outputs": [],
   "source": [
    "# Вхідний файл, який містить дані\n",
    "input_file = 'data_multivar_nb.txt'"
   ]
  },
  {
   "attachments": {},
   "cell_type": "markdown",
   "metadata": {},
   "source": [
    "<p>Завантажимо дані із цього файлу.</p>"
   ]
  },
  {
   "cell_type": "code",
   "execution_count": 349,
   "metadata": {},
   "outputs": [],
   "source": [
    "# Завантаження даних із вхідного файлу\n",
    "data = np.loadtxt(input_file, delimiter=',')\n",
    "X, y = data[:, :-1], data[:, -1]"
   ]
  },
  {
   "attachments": {},
   "cell_type": "markdown",
   "metadata": {},
   "source": [
    "<p>Створимо екземпляр наївного байєсовського класифікатора. У даному випадку ми будемо використовувати гаусівський наївний байєсівський класифікатор, в якому передбачається, що значення, які асоціюються з кожним класом, дотримуються закону розподілу Гауса.</p>"
   ]
  },
  {
   "cell_type": "code",
   "execution_count": 350,
   "metadata": {},
   "outputs": [],
   "source": [
    "# Створення наївного байєсовського класифікатора\n",
    "classifier = GaussianNB()"
   ]
  },
  {
   "attachments": {},
   "cell_type": "markdown",
   "metadata": {},
   "source": [
    "<p>Навчимо класифікатор, використовуючи тренувальні дані.</p>"
   ]
  },
  {
   "cell_type": "code",
   "execution_count": 351,
   "metadata": {},
   "outputs": [
    {
     "data": {
      "text/html": [
       "<style>#sk-container-id-17 {color: black;background-color: white;}#sk-container-id-17 pre{padding: 0;}#sk-container-id-17 div.sk-toggleable {background-color: white;}#sk-container-id-17 label.sk-toggleable__label {cursor: pointer;display: block;width: 100%;margin-bottom: 0;padding: 0.3em;box-sizing: border-box;text-align: center;}#sk-container-id-17 label.sk-toggleable__label-arrow:before {content: \"▸\";float: left;margin-right: 0.25em;color: #696969;}#sk-container-id-17 label.sk-toggleable__label-arrow:hover:before {color: black;}#sk-container-id-17 div.sk-estimator:hover label.sk-toggleable__label-arrow:before {color: black;}#sk-container-id-17 div.sk-toggleable__content {max-height: 0;max-width: 0;overflow: hidden;text-align: left;background-color: #f0f8ff;}#sk-container-id-17 div.sk-toggleable__content pre {margin: 0.2em;color: black;border-radius: 0.25em;background-color: #f0f8ff;}#sk-container-id-17 input.sk-toggleable__control:checked~div.sk-toggleable__content {max-height: 200px;max-width: 100%;overflow: auto;}#sk-container-id-17 input.sk-toggleable__control:checked~label.sk-toggleable__label-arrow:before {content: \"▾\";}#sk-container-id-17 div.sk-estimator input.sk-toggleable__control:checked~label.sk-toggleable__label {background-color: #d4ebff;}#sk-container-id-17 div.sk-label input.sk-toggleable__control:checked~label.sk-toggleable__label {background-color: #d4ebff;}#sk-container-id-17 input.sk-hidden--visually {border: 0;clip: rect(1px 1px 1px 1px);clip: rect(1px, 1px, 1px, 1px);height: 1px;margin: -1px;overflow: hidden;padding: 0;position: absolute;width: 1px;}#sk-container-id-17 div.sk-estimator {font-family: monospace;background-color: #f0f8ff;border: 1px dotted black;border-radius: 0.25em;box-sizing: border-box;margin-bottom: 0.5em;}#sk-container-id-17 div.sk-estimator:hover {background-color: #d4ebff;}#sk-container-id-17 div.sk-parallel-item::after {content: \"\";width: 100%;border-bottom: 1px solid gray;flex-grow: 1;}#sk-container-id-17 div.sk-label:hover label.sk-toggleable__label {background-color: #d4ebff;}#sk-container-id-17 div.sk-serial::before {content: \"\";position: absolute;border-left: 1px solid gray;box-sizing: border-box;top: 0;bottom: 0;left: 50%;z-index: 0;}#sk-container-id-17 div.sk-serial {display: flex;flex-direction: column;align-items: center;background-color: white;padding-right: 0.2em;padding-left: 0.2em;position: relative;}#sk-container-id-17 div.sk-item {position: relative;z-index: 1;}#sk-container-id-17 div.sk-parallel {display: flex;align-items: stretch;justify-content: center;background-color: white;position: relative;}#sk-container-id-17 div.sk-item::before, #sk-container-id-17 div.sk-parallel-item::before {content: \"\";position: absolute;border-left: 1px solid gray;box-sizing: border-box;top: 0;bottom: 0;left: 50%;z-index: -1;}#sk-container-id-17 div.sk-parallel-item {display: flex;flex-direction: column;z-index: 1;position: relative;background-color: white;}#sk-container-id-17 div.sk-parallel-item:first-child::after {align-self: flex-end;width: 50%;}#sk-container-id-17 div.sk-parallel-item:last-child::after {align-self: flex-start;width: 50%;}#sk-container-id-17 div.sk-parallel-item:only-child::after {width: 0;}#sk-container-id-17 div.sk-dashed-wrapped {border: 1px dashed gray;margin: 0 0.4em 0.5em 0.4em;box-sizing: border-box;padding-bottom: 0.4em;background-color: white;}#sk-container-id-17 div.sk-label label {font-family: monospace;font-weight: bold;display: inline-block;line-height: 1.2em;}#sk-container-id-17 div.sk-label-container {text-align: center;}#sk-container-id-17 div.sk-container {/* jupyter's `normalize.less` sets `[hidden] { display: none; }` but bootstrap.min.css set `[hidden] { display: none !important; }` so we also need the `!important` here to be able to override the default hidden behavior on the sphinx rendered scikit-learn.org. See: https://github.com/scikit-learn/scikit-learn/issues/21755 */display: inline-block !important;position: relative;}#sk-container-id-17 div.sk-text-repr-fallback {display: none;}</style><div id=\"sk-container-id-17\" class=\"sk-top-container\"><div class=\"sk-text-repr-fallback\"><pre>GaussianNB()</pre><b>In a Jupyter environment, please rerun this cell to show the HTML representation or trust the notebook. <br />On GitHub, the HTML representation is unable to render, please try loading this page with nbviewer.org.</b></div><div class=\"sk-container\" hidden><div class=\"sk-item\"><div class=\"sk-estimator sk-toggleable\"><input class=\"sk-toggleable__control sk-hidden--visually\" id=\"sk-estimator-id-17\" type=\"checkbox\" checked><label for=\"sk-estimator-id-17\" class=\"sk-toggleable__label sk-toggleable__label-arrow\">GaussianNB</label><div class=\"sk-toggleable__content\"><pre>GaussianNB()</pre></div></div></div></div></div>"
      ],
      "text/plain": [
       "GaussianNB()"
      ]
     },
     "execution_count": 351,
     "metadata": {},
     "output_type": "execute_result"
    }
   ],
   "source": [
    "# Тренування класифікатора\n",
    "classifier.fit(X, y)"
   ]
  },
  {
   "attachments": {},
   "cell_type": "markdown",
   "metadata": {},
   "source": [
    "<p>Запустимо класифікатор на тренувальних даних та спрогнозуємо результати.</p>"
   ]
  },
  {
   "cell_type": "code",
   "execution_count": 352,
   "metadata": {},
   "outputs": [],
   "source": [
    "# Прогнозування значень для тренувальних даних\n",
    "y_pred = classifier.predict(X)"
   ]
  },
  {
   "attachments": {},
   "cell_type": "markdown",
   "metadata": {},
   "source": [
    "<p>Обчислимо якість (accuracy)1 класифікатора, порівнявши передбачені значення з істинними мітками.</p>"
   ]
  },
  {
   "cell_type": "code",
   "execution_count": 353,
   "metadata": {},
   "outputs": [
    {
     "name": "stdout",
     "output_type": "stream",
     "text": [
      "Accuracy of Naive Bayes classifier = 99.75 %\n"
     ]
    }
   ],
   "source": [
    "# Обчислення якості класифікатора\n",
    "accuracy = 100.0 * (y == y_pred).sum() / X.shape[0]\n",
    "print(\"Accuracy of Naive Bayes classifier =\", round(accuracy,2), \"%\")"
   ]
  },
  {
   "attachments": {},
   "cell_type": "markdown",
   "metadata": {},
   "source": [
    "<p>Розіб'ємо дані на навчальний та тестовий набори. Відповідно до значення параметра test_size, зазначеного в рядку коду нижче, ми віднесемо 80% даних до тренування, а 20% - до тестування. Потім ми виконаємо тренування наївним байєсовським класифікатором на цих даних.</p>"
   ]
  },
  {
   "cell_type": "code",
   "execution_count": 354,
   "metadata": {},
   "outputs": [],
   "source": [
    "# Розбивка даних на навчальний та тестовий набори\n",
    "\n",
    "X_train, X_test, y_train, y_test = train_test_split(X, y, test_size=0.2, random_state=3)\n",
    "classifier_new = GaussianNB()\n",
    "classifier_new.fit(X_train, y_train)\n",
    "y_test_pred = classifier_new.predict(X_test)"
   ]
  },
  {
   "attachments": {},
   "cell_type": "markdown",
   "metadata": {},
   "source": [
    "<p>Обчислимо якість класифікатора.</p>"
   ]
  },
  {
   "cell_type": "code",
   "execution_count": 355,
   "metadata": {},
   "outputs": [
    {
     "name": "stdout",
     "output_type": "stream",
     "text": [
      "Accuracy of the new classifier = 100.0 %\n"
     ]
    }
   ],
   "source": [
    "# Обчислення якості класифікатора\n",
    "accuracy = 100.0 * (y_test == y_test_pred).sum()/X_test.shape[0]\n",
    "print(\"Accuracy of the new classifier =\", round(accuracy, 2),\"%\")"
   ]
  },
  {
   "attachments": {},
   "cell_type": "markdown",
   "metadata": {},
   "source": [
    "<p>Скористаємося вбудованими функціями для обчислення якості (accuracy), точності (precision) 2 та повноти (recall) 3 класифікатора на підставі потрійний перехрестної перевірки.</p>"
   ]
  },
  {
   "cell_type": "code",
   "execution_count": 356,
   "metadata": {},
   "outputs": [
    {
     "name": "stdout",
     "output_type": "stream",
     "text": [
      "Accuracy: 99.75%\n",
      "Precision: 99.76%\n",
      "Recall: 99.75%\n",
      "F1: 99.75%\n"
     ]
    }
   ],
   "source": [
    "num_folds = 3\n",
    "accuracy_values = cross_val_score(classifier,X, y, scoring='accuracy', cv=num_folds)\n",
    "print(\"Accuracy: \" + str(round(100 * accuracy_values.mean(), 2))+ \"%\")\n",
    "precision_values = cross_val_score(classifier,X, y, scoring='precision_weighted', cv=num_folds)\n",
    "print(\"Precision: \" + str(round(100 * precision_values.mean(),2)) + \"%\")\n",
    "recall_values = cross_val_score(classifier, X, y, scoring='recall_weighted', cv=num_folds)\n",
    "print(\"Recall: \" + str(round(100 * recall_values.mean(), 2)) + \"%\")\n",
    "f1_values = cross_val_score(classifier,X, y, scoring='f1_weighted', cv=num_folds)\n",
    "print(\"F1: \" + str(round(100 * f1_values.mean(), 2)) + \"%\")"
   ]
  },
  {
   "attachments": {},
   "cell_type": "markdown",
   "metadata": {},
   "source": [
    "<h3>Завдання 2.5. Вивчити метрики якості класифікації</h3>"
   ]
  },
  {
   "attachments": {},
   "cell_type": "markdown",
   "metadata": {},
   "source": [
    "<p>Завантажимо зразок набору даних, який має фактичні мітки (actual_lable) та ймовірності прогнозування для двох моделей (model_RF та model_LR). Тут ймовірність - це можливість бути 1-м класом.</p>"
   ]
  },
  {
   "cell_type": "code",
   "execution_count": 357,
   "metadata": {},
   "outputs": [
    {
     "data": {
      "text/html": [
       "<div>\n",
       "<style scoped>\n",
       "    .dataframe tbody tr th:only-of-type {\n",
       "        vertical-align: middle;\n",
       "    }\n",
       "\n",
       "    .dataframe tbody tr th {\n",
       "        vertical-align: top;\n",
       "    }\n",
       "\n",
       "    .dataframe thead th {\n",
       "        text-align: right;\n",
       "    }\n",
       "</style>\n",
       "<table border=\"1\" class=\"dataframe\">\n",
       "  <thead>\n",
       "    <tr style=\"text-align: right;\">\n",
       "      <th></th>\n",
       "      <th>actual_label</th>\n",
       "      <th>model_RF</th>\n",
       "      <th>model_LR</th>\n",
       "    </tr>\n",
       "  </thead>\n",
       "  <tbody>\n",
       "    <tr>\n",
       "      <th>0</th>\n",
       "      <td>1</td>\n",
       "      <td>0.639816</td>\n",
       "      <td>0.531904</td>\n",
       "    </tr>\n",
       "    <tr>\n",
       "      <th>1</th>\n",
       "      <td>0</td>\n",
       "      <td>0.490993</td>\n",
       "      <td>0.414496</td>\n",
       "    </tr>\n",
       "    <tr>\n",
       "      <th>2</th>\n",
       "      <td>1</td>\n",
       "      <td>0.623815</td>\n",
       "      <td>0.569883</td>\n",
       "    </tr>\n",
       "    <tr>\n",
       "      <th>3</th>\n",
       "      <td>1</td>\n",
       "      <td>0.506616</td>\n",
       "      <td>0.443674</td>\n",
       "    </tr>\n",
       "    <tr>\n",
       "      <th>4</th>\n",
       "      <td>0</td>\n",
       "      <td>0.418302</td>\n",
       "      <td>0.369532</td>\n",
       "    </tr>\n",
       "  </tbody>\n",
       "</table>\n",
       "</div>"
      ],
      "text/plain": [
       "   actual_label  model_RF  model_LR\n",
       "0             1  0.639816  0.531904\n",
       "1             0  0.490993  0.414496\n",
       "2             1  0.623815  0.569883\n",
       "3             1  0.506616  0.443674\n",
       "4             0  0.418302  0.369532"
      ]
     },
     "execution_count": 357,
     "metadata": {},
     "output_type": "execute_result"
    }
   ],
   "source": [
    "import pandas as pd\n",
    "df = pd.read_csv('data_metrics.csv')\n",
    "df.head()"
   ]
  },
  {
   "attachments": {},
   "cell_type": "markdown",
   "metadata": {},
   "source": [
    "<p>Припустимо, що поріг буде рівний 0.5 і додамо два додаткові стовпці, які перетворять ймовірності на передбачені мітки.</p>"
   ]
  },
  {
   "cell_type": "code",
   "execution_count": 358,
   "metadata": {},
   "outputs": [
    {
     "data": {
      "text/html": [
       "<div>\n",
       "<style scoped>\n",
       "    .dataframe tbody tr th:only-of-type {\n",
       "        vertical-align: middle;\n",
       "    }\n",
       "\n",
       "    .dataframe tbody tr th {\n",
       "        vertical-align: top;\n",
       "    }\n",
       "\n",
       "    .dataframe thead th {\n",
       "        text-align: right;\n",
       "    }\n",
       "</style>\n",
       "<table border=\"1\" class=\"dataframe\">\n",
       "  <thead>\n",
       "    <tr style=\"text-align: right;\">\n",
       "      <th></th>\n",
       "      <th>actual_label</th>\n",
       "      <th>model_RF</th>\n",
       "      <th>model_LR</th>\n",
       "      <th>predicted_RF</th>\n",
       "      <th>predicted_LR</th>\n",
       "    </tr>\n",
       "  </thead>\n",
       "  <tbody>\n",
       "    <tr>\n",
       "      <th>0</th>\n",
       "      <td>1</td>\n",
       "      <td>0.639816</td>\n",
       "      <td>0.531904</td>\n",
       "      <td>1</td>\n",
       "      <td>1</td>\n",
       "    </tr>\n",
       "    <tr>\n",
       "      <th>1</th>\n",
       "      <td>0</td>\n",
       "      <td>0.490993</td>\n",
       "      <td>0.414496</td>\n",
       "      <td>0</td>\n",
       "      <td>0</td>\n",
       "    </tr>\n",
       "    <tr>\n",
       "      <th>2</th>\n",
       "      <td>1</td>\n",
       "      <td>0.623815</td>\n",
       "      <td>0.569883</td>\n",
       "      <td>1</td>\n",
       "      <td>1</td>\n",
       "    </tr>\n",
       "    <tr>\n",
       "      <th>3</th>\n",
       "      <td>1</td>\n",
       "      <td>0.506616</td>\n",
       "      <td>0.443674</td>\n",
       "      <td>1</td>\n",
       "      <td>0</td>\n",
       "    </tr>\n",
       "    <tr>\n",
       "      <th>4</th>\n",
       "      <td>0</td>\n",
       "      <td>0.418302</td>\n",
       "      <td>0.369532</td>\n",
       "      <td>0</td>\n",
       "      <td>0</td>\n",
       "    </tr>\n",
       "  </tbody>\n",
       "</table>\n",
       "</div>"
      ],
      "text/plain": [
       "   actual_label  model_RF  model_LR  predicted_RF  predicted_LR\n",
       "0             1  0.639816  0.531904             1             1\n",
       "1             0  0.490993  0.414496             0             0\n",
       "2             1  0.623815  0.569883             1             1\n",
       "3             1  0.506616  0.443674             1             0\n",
       "4             0  0.418302  0.369532             0             0"
      ]
     },
     "execution_count": 358,
     "metadata": {},
     "output_type": "execute_result"
    }
   ],
   "source": [
    "thresh = 0.5\n",
    "df['predicted_RF'] = (df.model_RF >= 0.5).astype('int')\n",
    "df['predicted_LR'] = (df.model_LR >= 0.5).astype('int')\n",
    "df.head()"
   ]
  },
  {
   "attachments": {},
   "cell_type": "markdown",
   "metadata": {},
   "source": [
    "<h4>Матриця помилок (confusion_matrix)</h4>"
   ]
  },
  {
   "attachments": {},
   "cell_type": "markdown",
   "metadata": {},
   "source": [
    "<p>Отримаємо матрицю помилок (2х2) на основі наших вхідних даних.</p>"
   ]
  },
  {
   "cell_type": "code",
   "execution_count": 359,
   "metadata": {},
   "outputs": [
    {
     "data": {
      "text/plain": [
       "array([[5519, 2360],\n",
       "       [2832, 5047]])"
      ]
     },
     "execution_count": 359,
     "metadata": {},
     "output_type": "execute_result"
    }
   ],
   "source": [
    "from sklearn.metrics import confusion_matrix\n",
    "confusion_matrix(df.actual_label.values, df.predicted_RF.values)"
   ]
  },
  {
   "attachments": {},
   "cell_type": "markdown",
   "metadata": {},
   "source": [
    "<p>Перевіримо confusion_matrix за допомогою власних функцій.</p>"
   ]
  },
  {
   "cell_type": "code",
   "execution_count": 360,
   "metadata": {},
   "outputs": [],
   "source": [
    "def find_TP(y_true, y_pred):\n",
    "    # counts the number of true positives (y_true = 1, y_pred = 1)\n",
    "    return sum((y_true == 1) & (y_pred == 1))\n",
    "def find_FN(y_true, y_pred):\n",
    "    # counts the number of false negatives (y_true = 1, y_pred = 0)\n",
    "    return sum((y_true == 1) & (y_pred == 0))# your code here\n",
    "def find_FP(y_true, y_pred):\n",
    "    # counts the number of false positives (y_true = 0, y_pred = 1)\n",
    "    return sum((y_true == 0) & (y_pred == 1))# your code here\n",
    "def find_TN(y_true, y_pred):\n",
    "    # counts the number of true negatives (y_true = 0, y_pred = 0)\n",
    "    return sum((y_true == 0) & (y_pred == 0))# your code here"
   ]
  },
  {
   "attachments": {},
   "cell_type": "markdown",
   "metadata": {},
   "source": [
    "<p>Перевіримо наші результати на відповідність.</p>"
   ]
  },
  {
   "cell_type": "code",
   "execution_count": 361,
   "metadata": {},
   "outputs": [
    {
     "name": "stdout",
     "output_type": "stream",
     "text": [
      "TP: 5047\n",
      "FN: 2832\n",
      "FP: 2360\n",
      "TN: 5519\n"
     ]
    }
   ],
   "source": [
    "print('TP:',find_TP(df.actual_label.values, df.predicted_RF.values))\n",
    "print('FN:',find_FN(df.actual_label.values, df.predicted_RF.values))\n",
    "print('FP:',find_FP(df.actual_label.values, df.predicted_RF.values))\n",
    "print('TN:',find_TN(df.actual_label.values, df.predicted_RF.values))"
   ]
  },
  {
   "attachments": {},
   "cell_type": "markdown",
   "metadata": {},
   "source": [
    "<p>Напишемо функцію, яка обчислить всі чотири сегменти для нас та іншу функцію для дублювання confusion_matrix.</p>"
   ]
  },
  {
   "cell_type": "code",
   "execution_count": 362,
   "metadata": {},
   "outputs": [],
   "source": [
    "import numpy as np\n",
    "def find_conf_matrix_values(y_true,y_pred):\n",
    "    # calculate TP, FN, FP, TN\n",
    "    TP = find_TP(y_true,y_pred)\n",
    "    FN = find_FN(y_true,y_pred)\n",
    "    FP = find_FP(y_true,y_pred)\n",
    "    TN = find_TN(y_true,y_pred)\n",
    "    return TP,FN,FP,TN\n",
    "def mykolaichuk_confusion_matrix(y_true, y_pred):\n",
    "    TP,FN,FP,TN = find_conf_matrix_values(y_true,y_pred)\n",
    "    return np.array([[TN,FP],[FN,TP]])"
   ]
  },
  {
   "attachments": {},
   "cell_type": "markdown",
   "metadata": {},
   "source": [
    "<p>Перевіримо відповідність результатів з </p>"
   ]
  },
  {
   "cell_type": "code",
   "execution_count": 363,
   "metadata": {},
   "outputs": [
    {
     "data": {
      "text/plain": [
       "array([[5519, 2360],\n",
       "       [2832, 5047]])"
      ]
     },
     "execution_count": 363,
     "metadata": {},
     "output_type": "execute_result"
    }
   ],
   "source": [
    "mykolaichuk_confusion_matrix(df.actual_label.values, df.predicted_RF.values)"
   ]
  },
  {
   "attachments": {},
   "cell_type": "markdown",
   "metadata": {},
   "source": [
    "<p>Замість того, щоб порівнювати вручну, перевіримо, що наші функції працюють, використовуючи стандарту функцію Python <i>assert</i> і функцію <i>array_equal</i> бібліотеки numpy.</p>"
   ]
  },
  {
   "cell_type": "code",
   "execution_count": 364,
   "metadata": {},
   "outputs": [],
   "source": [
    "assert np.array_equal(mykolaichuk_confusion_matrix(df.actual_label.values, df.predicted_RF.values),confusion_matrix(df.actual_label.values, df.predicted_RF.values) ), 'my_confusion_matrix() is not correct for RF'\n",
    "assert np.array_equal(mykolaichuk_confusion_matrix(df.actual_label.values, df.predicted_LR.values),confusion_matrix(df.actual_label.values, df.predicted_LR.values) ), 'my_confusion_matrix() is not correct for LR'"
   ]
  },
  {
   "attachments": {
    "image.png": {
     "image/png": "[encoded data removed]"
    }
   },
   "cell_type": "markdown",
   "metadata": {},
   "source": [
    "<p>Маючи ці чотири сегменти (TP, FP, FN, TN), ми можемо обчислити багато інших показників продуктивності.\n",
    "<br><br>\n",
    "<b>accuracy_score</b>\n",
    "<br><br>\n",
    "Найбільш поширеним показником для класифікації є акуратність, тобто частка вибірок, що правильно спрогнозовані, як показано нижче:</p>\n",
    "<img src=\"https://miro.medium.com/v2/resize:fit:4800/format:webp/1*N4Lo9Miw397g3XpX7o0CDw.png\" alt=\"\">"
   ]
  },
  {
   "attachments": {},
   "cell_type": "markdown",
   "metadata": {},
   "source": [
    "<p>Ми можемо отримати оцінку точності з scikit-learn, яка приймає як вхідні дані фактичні мітки та прогнозовані мітки.</p>"
   ]
  },
  {
   "cell_type": "code",
   "execution_count": 365,
   "metadata": {},
   "outputs": [
    {
     "data": {
      "text/plain": [
       "0.6705165630156111"
      ]
     },
     "execution_count": 365,
     "metadata": {},
     "output_type": "execute_result"
    }
   ],
   "source": [
    "from sklearn.metrics import accuracy_score\n",
    "accuracy_score(df.actual_label.values, df.predicted_RF.values)"
   ]
  },
  {
   "attachments": {},
   "cell_type": "markdown",
   "metadata": {},
   "source": [
    "<p>Визначимо свою власну функцію, яка дублює <i>accuracy_score</i>, використовуючи формулу вище.</p>"
   ]
  },
  {
   "cell_type": "code",
   "execution_count": 366,
   "metadata": {},
   "outputs": [
    {
     "name": "stdout",
     "output_type": "stream",
     "text": [
      "Accuracy RF: 0.671\n",
      "Accuracy LR: 0.616\n"
     ]
    }
   ],
   "source": [
    "def mykolaichuk_accuracy_score(y_true, y_pred):\n",
    "    # calculates the fraction of samples predicted correctly\n",
    "    TP,FN,FP,TN = find_conf_matrix_values(y_true,y_pred)  \n",
    "    return (TP + TN)/(TP + FN + FP + TN)\n",
    "assert mykolaichuk_accuracy_score(df.actual_label.values, df.predicted_RF.values) == accuracy_score(df.actual_label.values, df.predicted_RF.values), 'mykolaichuk_accuracy_score failed on RF'\n",
    "assert mykolaichuk_accuracy_score(df.actual_label.values, df.predicted_LR.values) == accuracy_score(df.actual_label.values, df.predicted_LR.values), 'mykolaichuk_accuracy_score failed on LR'\n",
    "print('Accuracy RF: %.3f'%(mykolaichuk_accuracy_score(df.actual_label.values, df.predicted_RF.values)))\n",
    "print('Accuracy LR: %.3f'%(mykolaichuk_accuracy_score(df.actual_label.values, df.predicted_LR.values)))"
   ]
  },
  {
   "attachments": {},
   "cell_type": "markdown",
   "metadata": {},
   "source": [
    "<p>Оскільки акуратність не завжди може задовільняти наші задачі, спробуємо порахувати наступний показник, як чутливість (<b>recall_score</b>)\n",
    "<br><br>\n",
    "<b>recall_score</b> є частка позитивних подій, які було правильно передбачено.</b>\n",
    "<img src=\"https://miro.medium.com/v2/resize:fit:640/format:webp/1*nCMqH8BnHgsaxY6mcP6cAQ.png\" alt=\"\">\n",
    "<br><br>\n",
    "Отримаємо оцінку точності з scikit-learn, яка приймає як вхідні дані фактичні мітки та прогнозовані мітки.\n",
    "</p>"
   ]
  },
  {
   "cell_type": "code",
   "execution_count": 367,
   "metadata": {},
   "outputs": [
    {
     "data": {
      "text/plain": [
       "0.6405635232897576"
      ]
     },
     "execution_count": 367,
     "metadata": {},
     "output_type": "execute_result"
    }
   ],
   "source": [
    "from sklearn.metrics import recall_score\n",
    "recall_score(df.actual_label.values, df.predicted_RF.values)"
   ]
  },
  {
   "attachments": {},
   "cell_type": "markdown",
   "metadata": {},
   "source": [
    "<p>Визначимо власну функцію, яка дублює recall_score, використовуючи формулу вище.</p>"
   ]
  },
  {
   "cell_type": "code",
   "execution_count": 368,
   "metadata": {},
   "outputs": [
    {
     "name": "stdout",
     "output_type": "stream",
     "text": [
      "Recall RF: 0.641\n",
      "Recall LR: 0.543\n"
     ]
    }
   ],
   "source": [
    "def mykolaichuk_recall_score(y_true, y_pred):\n",
    "    # calculates the fraction of positive samples predicted correctly\n",
    "    TP,FN,FP,TN = find_conf_matrix_values(y_true,y_pred)  \n",
    "    return TP/(TP+FN)\n",
    "assert mykolaichuk_recall_score(df.actual_label.values, df.predicted_RF.values) == recall_score(df.actual_label.values, df.predicted_RF.values), 'mykolaichuk_accuracy_score failed on RF'\n",
    "assert mykolaichuk_recall_score(df.actual_label.values, df.predicted_LR.values) == recall_score(df.actual_label.values, df.predicted_LR.values), 'mykolaichuk_accuracy_score failed on LR'\n",
    "print('Recall RF: %.3f'%(mykolaichuk_recall_score(df.actual_label.values, df.predicted_RF.values)))\n",
    "print('Recall LR: %.3f'%(mykolaichuk_recall_score(df.actual_label.values, df.predicted_LR.values)))"
   ]
  },
  {
   "attachments": {},
   "cell_type": "markdown",
   "metadata": {},
   "source": [
    "<p>Один із способів підвищити повноту – збільшити кількість вибірок, які ви визначаєте як прогнозовані позитивні, шляхом зниження порога для прогнозованих позитивних результатів. На жаль, це також збільшить кількість хибних спрацьовувань. Інший показник продуктивності, названий точністю, враховує це.\n",
    "<br><br>\n",
    "<b>precision_score</b>\n",
    "<br><br>\n",
    "Точність - це частка очікуваних позитивних подій, які є позитивними, як показано нижче:<br>\n",
    "<img src=\"https://miro.medium.com/v2/resize:fit:640/format:webp/1*M7LtRth4_A4Hwa_lgRDeIg.png\" alt=\"\">\n",
    "<br><br>\n",
    "Визначимо оцінку точності з scikit-learn, яка приймає як вхідні дані фактичні мітки та прогнозовані мітки.\n",
    "</p>"
   ]
  },
  {
   "cell_type": "code",
   "execution_count": 369,
   "metadata": {},
   "outputs": [
    {
     "data": {
      "text/plain": [
       "0.681382476036182"
      ]
     },
     "execution_count": 369,
     "metadata": {},
     "output_type": "execute_result"
    }
   ],
   "source": [
    "from sklearn.metrics import precision_score\n",
    "precision_score(df.actual_label.values, df.predicted_RF.values)"
   ]
  },
  {
   "attachments": {},
   "cell_type": "markdown",
   "metadata": {},
   "source": [
    "<p>Визначимо власну функцію, яка дублює precision_score, використовуючи формулу вище.</p>"
   ]
  },
  {
   "cell_type": "code",
   "execution_count": 370,
   "metadata": {},
   "outputs": [
    {
     "name": "stdout",
     "output_type": "stream",
     "text": [
      "Precision RF: 0.681\n",
      "Precision LR: 0.636\n"
     ]
    }
   ],
   "source": [
    "def mykolaichuk_precision_score(y_true, y_pred):\n",
    "    # calculates the fraction of predicted positives samples that are actually positive\n",
    "    TP,FN,FP,TN = find_conf_matrix_values(y_true,y_pred)  \n",
    "    return TP/(TP+FP)\n",
    "assert mykolaichuk_precision_score(df.actual_label.values, df.predicted_RF.values) == precision_score(df.actual_label.values, df.predicted_RF.values), 'mykolaichuk_accuracy_score failed on RF'\n",
    "assert mykolaichuk_precision_score(df.actual_label.values, df.predicted_LR.values) == precision_score(df.actual_label.values, df.predicted_LR.values), 'mykolaichuk_accuracy_score failed on LR'\n",
    "print('Precision RF: %.3f'%(mykolaichuk_precision_score(df.actual_label.values, df.predicted_RF.values)))\n",
    "print('Precision LR: %.3f'%(mykolaichuk_precision_score(df.actual_label.values, df.predicted_LR.values)))"
   ]
  },
  {
   "attachments": {},
   "cell_type": "markdown",
   "metadata": {},
   "source": [
    "<p>В цьому випадку, схоже, що RF модель краще як за повнотою, так і по точності. Але що б ви зробили, якби одна модель краща за повнотою, а інша була точнішою. Один метод, який використовують у цьому випадку, називають рахунком F1.\n",
    "<br><br>\n",
    "<b>f1_score</b>\n",
    "<br><br>\n",
    "Оцінка f1 є гармонійним середнім значенням повноти та точності, з більш високою оцінкою як краща модель. Оцінка f1 розраховується за такою формулою:\n",
    "<br><br>\n",
    "<img src=\"https://miro.medium.com/v2/resize:fit:640/format:webp/1*WaXly05rd5MIWLE5QI3cvg.png\" alt=\"\">\n",
    "<br><br>\n",
    "Визначимо оцінку f1 з scikit-learn, яка приймає як вхідні дані фактичні мітки та прогнозовані мітки.\n",
    "</p>"
   ]
  },
  {
   "cell_type": "code",
   "execution_count": 371,
   "metadata": {},
   "outputs": [
    {
     "data": {
      "text/plain": [
       "0.660342797330891"
      ]
     },
     "execution_count": 371,
     "metadata": {},
     "output_type": "execute_result"
    }
   ],
   "source": [
    "from sklearn.metrics import f1_score\n",
    "f1_score(df.actual_label.values, df.predicted_RF.values)"
   ]
  },
  {
   "attachments": {},
   "cell_type": "markdown",
   "metadata": {},
   "source": [
    "<p>Визначимо власну функцію, яка дублює f1_score, використовуючи формулу вище.</p>"
   ]
  },
  {
   "cell_type": "code",
   "execution_count": 372,
   "metadata": {},
   "outputs": [
    {
     "name": "stdout",
     "output_type": "stream",
     "text": [
      "F1 RF: 0.660\n",
      "F1 LR: 0.586\n"
     ]
    }
   ],
   "source": [
    "def mykolaichuk_f1_score(y_true, y_pred):\n",
    "    # calculates the F1 score\n",
    "    recall = mykolaichuk_recall_score(y_true,y_pred)  \n",
    "    precision = mykolaichuk_precision_score(y_true,y_pred)  \n",
    "    return 2* (precision * recall)/(precision+recall)\n",
    "assert mykolaichuk_f1_score(df.actual_label.values, df.predicted_RF.values) == f1_score(df.actual_label.values, df.predicted_RF.values), 'mykolaichuk_accuracy_score failed on RF'\n",
    "assert mykolaichuk_f1_score(df.actual_label.values, df.predicted_LR.values) == f1_score(df.actual_label.values, df.predicted_LR.values), 'mykolaichuk_accuracy_score failed on LR'\n",
    "print('F1 RF: %.3f'%(mykolaichuk_f1_score(df.actual_label.values, df.predicted_RF.values)))\n",
    "print('F1 LR: %.3f'%(mykolaichuk_f1_score(df.actual_label.values, df.predicted_LR.values)))"
   ]
  },
  {
   "attachments": {},
   "cell_type": "markdown",
   "metadata": {},
   "source": [
    "<p>До цих пір ми припускали, що ми визначили поріг 0,5 для вибору зразків, які прогнозуються як позитивні. Якщо ми змінимо цей поріг, показники продуктивності зміняться. Як показано нижче:</p>"
   ]
  },
  {
   "cell_type": "code",
   "execution_count": 373,
   "metadata": {},
   "outputs": [
    {
     "name": "stdout",
     "output_type": "stream",
     "text": [
      "scores with threshold = 0.5\n",
      "Accuracy RF: 0.671\n",
      "Recall RF: 0.641\n",
      "Precision RF: 0.681\n",
      "F1 RF: 0.660\n",
      " \n",
      "scores with threshold = 0.25\n",
      "Accuracy RF: 0.502\n",
      "Recall RF: 1.000\n",
      "Precision RF: 0.501\n",
      "F1 RF: 0.668\n"
     ]
    }
   ],
   "source": [
    "print('scores with threshold = 0.5')\n",
    "print('Accuracy RF: %.3f'%(mykolaichuk_accuracy_score(df.actual_label.values, df.predicted_RF.values)))\n",
    "print('Recall RF: %.3f'%(mykolaichuk_recall_score(df.actual_label.values, df.predicted_RF.values)))\n",
    "print('Precision RF: %.3f'%(mykolaichuk_precision_score(df.actual_label.values, df.predicted_RF.values)))\n",
    "print('F1 RF: %.3f'%(mykolaichuk_f1_score(df.actual_label.values, df.predicted_RF.values)))\n",
    "print(' ')\n",
    "print('scores with threshold = 0.25')\n",
    "print('Accuracy RF: %.3f'%(mykolaichuk_accuracy_score(df.actual_label.values, (df.model_RF >= 0.25).astype('int').values)))\n",
    "print('Recall RF: %.3f'%(mykolaichuk_recall_score(df.actual_label.values, (df.model_RF >= 0.25).astype('int').values)))\n",
    "print('Precision RF: %.3f'%(mykolaichuk_precision_score(df.actual_label.values, (df.model_RF >= 0.25).astype('int').values)))\n",
    "print('F1 RF: %.3f'%(mykolaichuk_f1_score(df.actual_label.values, (df.model_RF >= 0.25).astype('int').values)))"
   ]
  },
  {
   "attachments": {},
   "cell_type": "markdown",
   "metadata": {},
   "source": [
    "<p>Моделі Accuracy, Precision точніші з вищим порогом (0.5), а моделі Recall, F1 точніші з нижчим порогом (0.25).\n",
    "<br><br>\n",
    "Як же оцінювати модель, якщо ми не вибрали поріг? Одним із найпоширеніших методів є використання кривої робочих характеристик приймача (ROC).\n",
    "<br><br>\n",
    "<b>roc_curve</b> та <b>roc_auc_score</b>\n",
    "<br><br>\n",
    "Криві ROC ДУЖЕ допомагають зрозуміти баланс між істинно позитивними показниками та хибнопозитивними показниками. Sci-kit learn має вбудовані функції для кривих ROC та їх аналізу. Входи в ці функції (roc_curveа також roc_auc_score) фактичні мітки та прогнозовані ймовірності (не прогнозовані мітки). І та й інша roc_curve, а також roc_auc_score обидві складні функції, тому ми не будемо писати ці функції з нуля. Натомість ми покажемо, як використовувати функції Sci-Kit Learn і пояснимо ключові моменти. Давайте почнемо з використання roc_curve.\n",
    "</p>"
   ]
  },
  {
   "cell_type": "code",
   "execution_count": 374,
   "metadata": {},
   "outputs": [],
   "source": [
    "from sklearn.metrics import roc_curve\n",
    "fpr_RF, tpr_RF, thresholds_RF = roc_curve(df.actual_label.values, df.model_RF.values)\n",
    "fpr_LR, tpr_LR, thresholds_LR = roc_curve(df.actual_label.values, df.model_LR.values)"
   ]
  },
  {
   "attachments": {},
   "cell_type": "markdown",
   "metadata": {},
   "source": [
    "<p>Функція roc_curve повертає три списки:\n",
    "<ul>\n",
    "    <li>пороги = всі унікальні ймовірності передбачення в порядку спадання</li>\n",
    "    <li>fpr = хибнопозитивний показник (FP/(FP+TN)) для кожного порогу</li>\n",
    "    <li>tpr = істинно позитивна швидкість (TP/(TP+FN)) для кожного порогу.</li>\n",
    "</ul>\n",
    "<br><br>\n",
    "Побудуємо риву ROC для кожної моделі, як показано нижче.\n",
    "</p>"
   ]
  },
  {
   "cell_type": "code",
   "execution_count": 375,
   "metadata": {},
   "outputs": [
    {
     "data": {
      "image/png": "[encoded data removed]",
      "text/plain": [
       "<Figure size 640x480 with 1 Axes>"
      ]
     },
     "metadata": {},
     "output_type": "display_data"
    }
   ],
   "source": [
    "import matplotlib.pyplot as plt\n",
    "plt.plot(fpr_RF, tpr_RF,'r-',label = 'RF')\n",
    "plt.plot(fpr_LR,tpr_LR,'b-', label= 'LR')\n",
    "plt.plot([0,1],[0,1],'k-',label='random')\n",
    "plt.plot([0,0,1,1],[0,1,1,1],'g-',label='perfect')\n",
    "plt.legend()\n",
    "plt.xlabel('False Positive Rate')\n",
    "plt.ylabel('True Positive Rate')\n",
    "plt.show()"
   ]
  },
  {
   "attachments": {},
   "cell_type": "markdown",
   "metadata": {},
   "source": [
    "<p>Є кілька речей, які ми можемо спостерігати із цієї фігури:\n",
    "<ul>\n",
    "    <li>модель, яка випадково вгадує мітку, призведе до чорної лінії, і нам\n",
    "        необхідно мати модель із кривою над цією чорною лінією.</li>\n",
    "    <li>ROC- крива, якя знаходиться далі від чорної лінії, краще, тому RF\n",
    "        (червона) виглядає краще, ніж LR (синя)</li>\n",
    "    <li>Хоча це не видно безпосередньо, високий поріг призводить до точки\n",
    "        у лівому нижньому кутку, а низький поріг призводить до точки у верхньому правому куті. Це означає, що, зменшуючи поріг, ви отримуєте вищий TPR за рахунок вищого FPR.</li>\n",
    "</ul>\n",
    "<br><br>\n",
    "Для аналізу продуктивності ми використовуватимемо метрику площі під кривою.\n",
    "</p>"
   ]
  },
  {
   "cell_type": "code",
   "execution_count": 376,
   "metadata": {},
   "outputs": [
    {
     "name": "stdout",
     "output_type": "stream",
     "text": [
      "AUC RF:0.738\n",
      "AUC LR:0.666\n"
     ]
    }
   ],
   "source": [
    "from sklearn.metrics import roc_auc_score\n",
    "auc_RF = roc_auc_score(df.actual_label.values, df.model_RF.values)\n",
    "auc_LR = roc_auc_score(df.actual_label.values, df.model_LR.values)\n",
    "print('AUC RF:%.3f'% auc_RF)\n",
    "print('AUC LR:%.3f'% auc_LR)"
   ]
  },
  {
   "attachments": {},
   "cell_type": "markdown",
   "metadata": {},
   "source": [
    "<p>Як ви зможете побачити, площа під кривою для моделі RF (AUC = 0,738) краще, ніж LR (AUC = 0,666). Коли будуєте криву ROC, доцільно додавати AUC до легенди, як показано нижче.</p>"
   ]
  },
  {
   "cell_type": "code",
   "execution_count": 377,
   "metadata": {},
   "outputs": [
    {
     "data": {
      "image/png": "[encoded data removed]",
      "text/plain": [
       "<Figure size 640x480 with 1 Axes>"
      ]
     },
     "metadata": {},
     "output_type": "display_data"
    }
   ],
   "source": [
    "import matplotlib.pyplot as plt\n",
    "plt.plot(fpr_RF, tpr_RF,'r-',label = 'RF AUC: %.3f'%auc_RF)\n",
    "plt.plot(fpr_LR,tpr_LR,'b-', label= 'LR AUC: %.3f'%auc_LR)\n",
    "plt.plot([0,1],[0,1],'k-',label='random')\n",
    "plt.plot([0,0,1,1],[0,1,1,1],'g-',label='perfect')\n",
    "plt.legend()\n",
    "plt.xlabel('False Positive Rate')\n",
    "plt.ylabel('True Positive Rate')\n",
    "plt.show()"
   ]
  },
  {
   "attachments": {},
   "cell_type": "markdown",
   "metadata": {},
   "source": [
    "<h2>Завдання 2.6. Розробіть програму класифікації даних в файлі data_multivar_nb.txt за допомогою машини опорних векторів (Support Vector Machine - SVМ). Розрахуйте показники якості класифікації. Порівняйте їх з показниками наївного байєсівського класифікатора. Зробіть висновки яку модель класифікації краще обрати і чому.\n",
    "</h2>"
   ]
  },
  {
   "cell_type": "code",
   "execution_count": 388,
   "metadata": {},
   "outputs": [
    {
     "name": "stdout",
     "output_type": "stream",
     "text": [
      "Accuracy: 98.75%\n"
     ]
    }
   ],
   "source": [
    "from sklearn import svm\n",
    "from sklearn.model_selection import train_test_split\n",
    "from sklearn.metrics import accuracy_score\n",
    "\n",
    "# load data from file\n",
    "with open('data_multivar_nb.txt') as file:\n",
    "    data = []\n",
    "    for line in file:\n",
    "        row = line.split(',')\n",
    "        data.append([float(row[0]), float(row[1]), int(row[2])])\n",
    "\n",
    "# separate data into features (X) and labels (y)\n",
    "X = []\n",
    "y = []\n",
    "for row in data:\n",
    "    X.append(row[:2])\n",
    "    y.append(row[2])\n",
    "\n",
    "# split data into training and testing sets\n",
    "X_train, X_test, y_train, y_test = train_test_split(X, y, test_size=0.2, random_state=42)\n",
    "\n",
    "# train support vector machine classifier\n",
    "clf = svm.SVC(kernel='linear')\n",
    "clf.fit(X_train, y_train)\n",
    "\n",
    "# predict labels for testing set\n",
    "y_pred = clf.predict(X_test)\n",
    "\n",
    "# calculate accuracy score\n",
    "accuracy = accuracy_score(y_test, y_pred)\n",
    "\n",
    "# print accuracy score as percentage\n",
    "print(\"Accuracy: {:.2f}%\".format(accuracy * 100))\n"
   ]
  }
 ],
 "metadata": {
  "kernelspec": {
   "display_name": "Python 3",
   "language": "python",
   "name": "python3"
  },
  "language_info": {
   "codemirror_mode": {
    "name": "ipython",
    "version": 3
   },
   "file_extension": ".py",
   "mimetype": "text/x-python",
   "name": "python",
   "nbconvert_exporter": "python",
   "pygments_lexer": "ipython3",
   "version": "3.10.9"
  },
  "orig_nbformat": 4,
  "vscode": {
   "interpreter": {
    "hash": "b0fa6594d8f4cbf19f97940f81e996739fb7646882a419484c72d19e05852a7e"
   }
  }
 },
 "nbformat": 4,
 "nbformat_minor": 2
}
